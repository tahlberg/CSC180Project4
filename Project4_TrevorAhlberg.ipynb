{
 "cells": [
  {
   "cell_type": "markdown",
   "metadata": {
    "colab_type": "text",
    "id": "GxGA1SMjVOTm"
   },
   "source": [
    "## Project 4:  Solving N-Queens Problem using Genetic Algorithms\n",
    "\n",
    "#### CSC 180  Intelligent Systems\n",
    "\n",
    "#### Dr. Haiquan Chen, California State University, Sacramento\n"
   ]
  },
  {
   "cell_type": "code",
   "execution_count": 17,
   "metadata": {},
   "outputs": [],
   "source": [
    "# Trevor Ahlberg, Sac State ID: 302002051, CSC 180 Intelligent Systems, Project 4, 11-18-21\n",
    "\n",
    "\n",
    "\n",
    "\n",
    "\n",
    "\n",
    "\n",
    "\n",
    "\n",
    "\n",
    "\n"
   ]
  },
  {
   "cell_type": "markdown",
   "metadata": {
    "colab_type": "text",
    "id": "HibX8kusV5PD"
   },
   "source": [
    "\n",
    "## Part I: Position-index-based board representation"
   ]
  },
  {
   "cell_type": "code",
   "execution_count": 51,
   "metadata": {
    "colab": {},
    "colab_type": "code",
    "id": "LcEVm7paVOTo"
   },
   "outputs": [],
   "source": [
    "import random\n",
    "import math\n",
    "import numpy as np\n",
    "from deap import algorithms, base, creator, tools\n",
    "\n",
    "creator.create(\"FitnessMin\", base.Fitness, weights=(-1.0,))\n",
    "creator.create(\"Individual\", list, fitness=creator.FitnessMin)\n"
   ]
  },
  {
   "cell_type": "code",
   "execution_count": 19,
   "metadata": {
    "colab": {},
    "colab_type": "code",
    "id": "AjYwh9eYVOTt"
   },
   "outputs": [],
   "source": [
    "def create_individual():\n",
    "    return random.sample(range(64), 8)"
   ]
  },
  {
   "cell_type": "code",
   "execution_count": 20,
   "metadata": {
    "colab": {},
    "colab_type": "code",
    "id": "V3rgKtu_VOTv"
   },
   "outputs": [
    {
     "name": "stdout",
     "output_type": "stream",
     "text": [
      "[34, 63, 47, 0, 49, 12, 36, 40]\n"
     ]
    }
   ],
   "source": [
    "print(create_individual())"
   ]
  },
  {
   "cell_type": "code",
   "execution_count": 21,
   "metadata": {
    "colab": {},
    "colab_type": "code",
    "id": "ekoiWdxDVOTy"
   },
   "outputs": [],
   "source": [
    "def show_grid(board):\n",
    "    \n",
    "    n = [0]*64\n",
    "    for i in board:\n",
    "        n[i] = 1\n",
    "    \n",
    "    \n",
    "    for i in range(8):\n",
    "        for j in range(64):\n",
    "            if j // 8 == i:\n",
    "                if n[j] == 1:\n",
    "                    print('X',end=\"|\")\n",
    "                else:\n",
    "                    print('-',end=\"|\")\n",
    "        print()\n",
    "        print(\"----------------\")\n"
   ]
  },
  {
   "cell_type": "code",
   "execution_count": 22,
   "metadata": {
    "colab": {},
    "colab_type": "code",
    "id": "N8XtgeUKVOT0"
   },
   "outputs": [],
   "source": [
    "toolbox = base.Toolbox()\n",
    "\n",
    "toolbox.register(\"individual\", tools.initIterate, creator.Individual, create_individual)\n",
    "\n",
    "toolbox.register(\"population\", tools.initRepeat, list, toolbox.individual)"
   ]
  },
  {
   "cell_type": "code",
   "execution_count": 23,
   "metadata": {
    "colab": {},
    "colab_type": "code",
    "id": "YTk0VOT-VOT3"
   },
   "outputs": [
    {
     "name": "stdout",
     "output_type": "stream",
     "text": [
      "[60, 50, 35, 34, 24, 54, 31, 30]\n"
     ]
    }
   ],
   "source": [
    "pop = toolbox.population(n=5)\n",
    "\n",
    "print(pop[0])"
   ]
  },
  {
   "cell_type": "code",
   "execution_count": 24,
   "metadata": {
    "colab": {},
    "colab_type": "code",
    "id": "letgI4JkVOT6"
   },
   "outputs": [
    {
     "name": "stdout",
     "output_type": "stream",
     "text": [
      "-|-|-|-|-|-|-|-|\n",
      "----------------\n",
      "-|-|-|-|-|-|-|-|\n",
      "----------------\n",
      "-|-|-|-|-|-|-|-|\n",
      "----------------\n",
      "X|-|-|-|-|-|X|X|\n",
      "----------------\n",
      "-|-|X|X|-|-|-|-|\n",
      "----------------\n",
      "-|-|-|-|-|-|-|-|\n",
      "----------------\n",
      "-|-|X|-|-|-|X|-|\n",
      "----------------\n",
      "-|-|-|-|X|-|-|-|\n",
      "----------------\n"
     ]
    }
   ],
   "source": [
    "show_grid(pop[0])"
   ]
  },
  {
   "cell_type": "markdown",
   "metadata": {
    "colab_type": "text",
    "id": "qzj4Y0L5VOT8"
   },
   "source": [
    "### 10 pts:  Write your code in the cell below to define the \"evaFitness\" function, which returns the fitness of any given board.  \n",
    "\n",
    "- Noticed that in this case, mutation may generate invalid board, e.g., the board with dupliciate positions.  Think about   [5, 32, 8, 8, 41, 3, 55, 49]\n",
    "\n",
    "- How to exclude those invalid boards from each generation? One way is to add some penalty to the fitness value of invalid boards.  In that case, any invalid board will have a very high fitness value (remember that our goal is to find the board with least fitness value).    To do that, let's write a function ***checkDuplicate()*** to calculate the number of queen pairs in the same position for any given board.   ***Give each duplicate a high penalty (i.e., multiply by 20, 50) and add the penalty to the fitness value.*** \n",
    "\n",
    "-  evaFitness() returns the total number of duplicate position pair (with penalty) plus the total number of distinct pairs of queens that attack each other.  "
   ]
  },
  {
   "cell_type": "code",
   "execution_count": 25,
   "metadata": {
    "colab": {},
    "colab_type": "code",
    "id": "ZTHRSMRMVOT8"
   },
   "outputs": [],
   "source": [
    "\n",
    "#fitness function\n",
    "def evaFitness(individual):\n",
    "    \n",
    "    conflict = 0\n",
    "    \n",
    "\n",
    "    \n",
    "    for i in range(8):\n",
    "        for n in range(i, 8):\n",
    "            \n",
    "            if i == n:\n",
    "                continue\n",
    "                    \n",
    "                    \n",
    "            col1 = individual[i]%8\n",
    "            col2 = individual[n]%8\n",
    "            \n",
    "            row1 = individual[i]//8\n",
    "            row2 = individual[n]//8\n",
    "            \n",
    "            #check for same column\n",
    "            if col1 == col2:\n",
    "                conflict += 1\n",
    "                \n",
    "            #check for same row\n",
    "            elif row1 == row2:\n",
    "                conflict += 1\n",
    "                \n",
    "            #check diagonal 1\n",
    "            elif row1+col1 == row2+col2:\n",
    "                conflict += 1\n",
    "            \n",
    "            #check diagonal 2\n",
    "            elif row1-col1 == row2-col2:\n",
    "                conflict += 1\n",
    "            \n",
    "    return (checkDuplicate(individual) + conflict,)\n",
    "    \n",
    "\n",
    "    \n",
    "    \n",
    "\n",
    "\n",
    "    \n",
    "# Calculate the number of queen pairs in the same position for any given board\n",
    "def checkDuplicate(individual):\n",
    "    dup = 0\n",
    "    \n",
    "    unique, duplicates = np.unique(individual, return_counts = True)\n",
    "\n",
    "    for i in duplicates:\n",
    "        if i > 1:\n",
    "            dup += i\n",
    "    \n",
    "    dup *= 50\n",
    "    \n",
    "    \n",
    "    return dup\n",
    "    \n",
    "    "
   ]
  },
  {
   "cell_type": "markdown",
   "metadata": {
    "colab_type": "text",
    "id": "tikbcB_kVOT-"
   },
   "source": [
    "### 5 pts:  Writer your code in the cell below to register \"evaluate\" function to toolbox"
   ]
  },
  {
   "cell_type": "code",
   "execution_count": 26,
   "metadata": {
    "colab": {},
    "colab_type": "code",
    "id": "bMjmesXqVOT_"
   },
   "outputs": [],
   "source": [
    "\n",
    "toolbox.register(\"evaluate\", evaFitness)\n",
    "\n",
    "\n",
    "\n",
    "\n"
   ]
  },
  {
   "cell_type": "code",
   "execution_count": 27,
   "metadata": {
    "colab": {},
    "colab_type": "code",
    "id": "_eDjyzBlVOUB"
   },
   "outputs": [],
   "source": [
    "toolbox.register(\"mate\", tools.cxTwoPoint)\n",
    "\n",
    "toolbox.register(\"mutate\", tools.mutUniformInt, low = 0, up = 63, indpb=0.1)\n",
    "\n",
    "toolbox.register(\"select\", tools.selTournament, tournsize=3)"
   ]
  },
  {
   "cell_type": "code",
   "execution_count": 28,
   "metadata": {
    "colab": {},
    "colab_type": "code",
    "id": "6uej76HoVOUD"
   },
   "outputs": [],
   "source": [
    "stats = tools.Statistics(key=lambda ind: ind.fitness.values)"
   ]
  },
  {
   "cell_type": "code",
   "execution_count": 29,
   "metadata": {
    "colab": {},
    "colab_type": "code",
    "id": "W8cWVXmxVOUH"
   },
   "outputs": [],
   "source": [
    "stats.register(\"avg\", np.mean)\n",
    "stats.register(\"min\", np.min)"
   ]
  },
  {
   "cell_type": "markdown",
   "metadata": {
    "colab_type": "text",
    "id": "OmnhqV_MVOUJ"
   },
   "source": [
    "### 10 pts:  Writer your code in the cell below to create the first generation, the hall of fame, and launch the genetic algorithm: eaSimple().   How many individuals you want to have for each generation and how many generations you want GA to go thourgh for each run?     Vary those two parameters to see the change. "
   ]
  },
  {
   "cell_type": "code",
   "execution_count": 30,
   "metadata": {
    "colab": {},
    "colab_type": "code",
    "id": "SsTaPuPgVOUK"
   },
   "outputs": [
    {
     "name": "stdout",
     "output_type": "stream",
     "text": [
      "gen\tnevals\tavg   \tmin\n",
      "0  \t10000 \t10.067\t3  \n",
      "1  \t6006  \t19.1252\t2  \n",
      "2  \t6007  \t19.4785\t2  \n",
      "3  \t5964  \t18.2975\t2  \n",
      "4  \t6037  \t17.8623\t2  \n",
      "5  \t6016  \t17.6442\t2  \n",
      "6  \t6048  \t17.8747\t2  \n",
      "7  \t5909  \t16.8158\t2  \n",
      "8  \t5950  \t16.9792\t2  \n",
      "9  \t6006  \t16.9739\t2  \n",
      "10 \t5917  \t16.3919\t1  \n",
      "11 \t5981  \t16.474 \t1  \n",
      "12 \t6086  \t16.4174\t1  \n",
      "13 \t5899  \t15.8542\t2  \n",
      "14 \t6067  \t16.547 \t2  \n",
      "15 \t5993  \t16.3839\t0  \n",
      "16 \t5989  \t15.3725\t0  \n",
      "17 \t6049  \t14.7984\t0  \n",
      "18 \t5963  \t15.3031\t0  \n",
      "19 \t5978  \t14.4845\t0  \n",
      "20 \t5981  \t15.4101\t0  \n",
      "21 \t6102  \t14.8301\t0  \n",
      "22 \t6073  \t14.8473\t0  \n",
      "23 \t6048  \t14.5322\t0  \n",
      "24 \t6010  \t14.0244\t0  \n",
      "25 \t5936  \t13.9956\t0  \n",
      "26 \t5974  \t13.0817\t0  \n",
      "27 \t6030  \t12.7866\t0  \n",
      "28 \t5985  \t12.1194\t0  \n",
      "29 \t5986  \t11.2385\t0  \n",
      "30 \t6004  \t10.5501\t0  \n",
      "31 \t5990  \t10.0039\t0  \n",
      "32 \t5802  \t9.2286 \t0  \n",
      "33 \t5976  \t8.5216 \t0  \n",
      "34 \t5952  \t7.7011 \t0  \n",
      "35 \t5957  \t5.4309 \t0  \n",
      "36 \t6046  \t3.3106 \t0  \n",
      "37 \t5919  \t2.171  \t0  \n",
      "38 \t5937  \t2.2814 \t0  \n",
      "39 \t5986  \t2.4369 \t0  \n",
      "40 \t5950  \t2.2404 \t0  \n",
      "41 \t6039  \t2.0836 \t0  \n",
      "42 \t6115  \t2.2274 \t0  \n",
      "43 \t5983  \t2.3274 \t0  \n",
      "44 \t5980  \t1.9623 \t0  \n",
      "45 \t5964  \t2.1798 \t0  \n",
      "46 \t5921  \t2.4119 \t0  \n",
      "47 \t6010  \t2.1871 \t0  \n",
      "48 \t5986  \t2.406  \t0  \n",
      "49 \t6005  \t2.3087 \t0  \n",
      "50 \t5981  \t2.2927 \t0  \n",
      "51 \t6055  \t1.9692 \t0  \n",
      "52 \t5963  \t2.0205 \t0  \n",
      "53 \t6064  \t2.0365 \t0  \n",
      "54 \t5993  \t2.1231 \t0  \n",
      "55 \t6061  \t2.1536 \t0  \n",
      "56 \t5921  \t1.9499 \t0  \n",
      "57 \t5907  \t2.2403 \t0  \n",
      "58 \t6086  \t2.0587 \t0  \n",
      "59 \t6006  \t2.1177 \t0  \n",
      "60 \t6009  \t2.0963 \t0  \n",
      "61 \t5920  \t1.9831 \t0  \n",
      "62 \t6041  \t2.0389 \t0  \n",
      "63 \t5956  \t2.256  \t0  \n",
      "64 \t5928  \t2.1701 \t0  \n",
      "65 \t6070  \t1.8492 \t0  \n",
      "66 \t5993  \t2.1457 \t0  \n",
      "67 \t6017  \t2.2433 \t0  \n",
      "68 \t5979  \t1.8607 \t0  \n",
      "69 \t6000  \t2.0329 \t0  \n",
      "70 \t6060  \t1.8741 \t0  \n",
      "71 \t6016  \t2.0551 \t0  \n",
      "72 \t5936  \t2.2022 \t0  \n",
      "73 \t5928  \t2.3213 \t0  \n",
      "74 \t5979  \t2.2141 \t0  \n",
      "75 \t5851  \t2.0887 \t0  \n",
      "76 \t6079  \t1.9417 \t0  \n",
      "77 \t6011  \t1.9462 \t0  \n",
      "78 \t6007  \t1.9474 \t0  \n",
      "79 \t6052  \t2.0927 \t0  \n",
      "80 \t6044  \t1.9982 \t0  \n",
      "81 \t5958  \t1.7475 \t0  \n",
      "82 \t5903  \t2.0013 \t0  \n",
      "83 \t5995  \t2.0015 \t0  \n",
      "84 \t6067  \t1.8674 \t0  \n",
      "85 \t5998  \t2.0118 \t0  \n",
      "86 \t6079  \t1.9653 \t0  \n",
      "87 \t5910  \t1.7087 \t0  \n",
      "88 \t6010  \t1.9803 \t0  \n",
      "89 \t5909  \t2.1484 \t0  \n",
      "90 \t5966  \t2.032  \t0  \n",
      "91 \t5985  \t1.9515 \t0  \n",
      "92 \t6068  \t1.9554 \t0  \n",
      "93 \t6108  \t1.8004 \t0  \n",
      "94 \t6095  \t1.6884 \t0  \n",
      "95 \t6032  \t2.0957 \t0  \n",
      "96 \t6061  \t1.9697 \t0  \n",
      "97 \t5920  \t2.1418 \t0  \n",
      "98 \t5915  \t1.9426 \t0  \n",
      "99 \t5965  \t2.1066 \t0  \n",
      "100\t5914  \t2.2253 \t0  \n"
     ]
    }
   ],
   "source": [
    "pop = toolbox.population(n=10000)\n",
    "\n",
    "hof = tools.HallOfFame(maxsize=1)\n",
    "\n",
    "pop, log= algorithms.eaSimple(pop, toolbox, cxpb=0.5, mutpb=0.2, ngen=100, stats=stats, halloffame=hof, verbose=True)\n",
    "\n",
    "\n",
    "\n",
    "\n",
    "\n",
    "\n",
    "\n",
    "\n",
    "\n"
   ]
  },
  {
   "cell_type": "markdown",
   "metadata": {
    "colab_type": "text",
    "id": "OkApdsjQVOUL"
   },
   "source": [
    "### 5 pts:  Plot the \"avg\" and \"min\" for each generation"
   ]
  },
  {
   "cell_type": "code",
   "execution_count": 31,
   "metadata": {
    "colab": {},
    "colab_type": "code",
    "id": "gcFc3eOyVOUM",
    "scrolled": true
   },
   "outputs": [
    {
     "data": {
      "image/png": "[encoded data removed]",
      "text/plain": [
       "<Figure size 432x288 with 1 Axes>"
      ]
     },
     "metadata": {
      "needs_background": "light"
     },
     "output_type": "display_data"
    }
   ],
   "source": [
    "import matplotlib.pyplot as plt\n",
    "%matplotlib inline  \n",
    "\n",
    "gen, avg, min_ = log.select(\"gen\", \"avg\", \"min\")\n",
    "\n",
    "plt.plot(gen, avg, label=\"average\")\n",
    "plt.plot(gen, min_, label=\"minimum\")\n",
    "plt.xlabel(\"Generation\")\n",
    "plt.ylabel(\"Fitness\")\n",
    "plt.legend(loc=\"lower right\")\n",
    "plt.show()\n"
   ]
  },
  {
   "cell_type": "markdown",
   "metadata": {
    "colab_type": "text",
    "id": "t6PFTvUZVOUN"
   },
   "source": [
    "### 5 pts:  Print out the best individual found and its fitness value.  Show the best individual as chessboard"
   ]
  },
  {
   "cell_type": "code",
   "execution_count": 32,
   "metadata": {
    "colab": {},
    "colab_type": "code",
    "id": "-MeBQ0BZVOUO"
   },
   "outputs": [
    {
     "name": "stdout",
     "output_type": "stream",
     "text": [
      "Best individual is:  [60, 26, 6, 9, 43, 21, 55, 32]\n",
      "\n",
      "with fitness:  (0.0,)\n",
      "-|-|-|-|-|-|X|-|\n",
      "----------------\n",
      "-|X|-|-|-|-|-|-|\n",
      "----------------\n",
      "-|-|-|-|-|X|-|-|\n",
      "----------------\n",
      "-|-|X|-|-|-|-|-|\n",
      "----------------\n",
      "X|-|-|-|-|-|-|-|\n",
      "----------------\n",
      "-|-|-|X|-|-|-|-|\n",
      "----------------\n",
      "-|-|-|-|-|-|-|X|\n",
      "----------------\n",
      "-|-|-|-|X|-|-|-|\n",
      "----------------\n"
     ]
    }
   ],
   "source": [
    "\n",
    "print(\"Best individual is: \", hof[0])\n",
    "\n",
    "print(\"\\nwith fitness: \", hof[0].fitness)\n",
    "\n",
    "show_grid(hof[0])\n",
    "\n"
   ]
  },
  {
   "cell_type": "markdown",
   "metadata": {
    "colab_type": "text",
    "id": "_PCJJdWAVOUP"
   },
   "source": [
    "## Part II: Row-index-based board representation"
   ]
  },
  {
   "cell_type": "code",
   "execution_count": 33,
   "metadata": {
    "colab": {},
    "colab_type": "code",
    "id": "BF0R7swEVOUQ"
   },
   "outputs": [],
   "source": [
    "import random\n",
    "import numpy as np\n",
    "from deap import algorithms, base, creator, tools\n",
    "\n",
    "creator.create(\"FitnessMin\", base.Fitness, weights=(-1.0,))\n",
    "creator.create(\"Individual\", list, fitness=creator.FitnessMin)\n"
   ]
  },
  {
   "cell_type": "markdown",
   "metadata": {
    "colab_type": "text",
    "id": "YCwVbnHrVOUS"
   },
   "source": [
    "Each row of the chess row is indexed from 0->7 . we place different queens on different rows initially.  The sequence [ a b c d .... ] means that in $0^{th}$ row, $a^{th}$ column, the queen is present and so on"
   ]
  },
  {
   "cell_type": "code",
   "execution_count": 34,
   "metadata": {
    "colab": {},
    "colab_type": "code",
    "id": "n4II9oePVOUS"
   },
   "outputs": [],
   "source": [
    "toolbox = base.Toolbox()\n",
    "\n",
    "toolbox.register(\"attr_int\", random.randint, 0, 7)\n",
    "toolbox.register(\"individual\", tools.initRepeat, creator.Individual,\n",
    "                 toolbox.attr_int, n=8)"
   ]
  },
  {
   "cell_type": "code",
   "execution_count": 35,
   "metadata": {
    "colab": {},
    "colab_type": "code",
    "id": "W-tn8be2VOUU"
   },
   "outputs": [
    {
     "data": {
      "text/plain": [
       "[6, 0, 4, 6, 5, 3, 4, 5]"
      ]
     },
     "execution_count": 35,
     "metadata": {},
     "output_type": "execute_result"
    }
   ],
   "source": [
    "toolbox.individual()"
   ]
  },
  {
   "cell_type": "code",
   "execution_count": 36,
   "metadata": {
    "colab": {},
    "colab_type": "code",
    "id": "97EqErd3VOUX"
   },
   "outputs": [],
   "source": [
    "def show_grid(board):\n",
    "    \n",
    "    n = [0]*64\n",
    "    \n",
    "    for i in range(len(board)):\n",
    "        n[board[i] + i*8] = 1\n",
    "      \n",
    "    \n",
    "    for i in range(8):\n",
    "        for j in range(64):\n",
    "            if j // 8 == i:\n",
    "                if n[j] == 1:\n",
    "                    print('X',end=\"|\")\n",
    "                else:\n",
    "                    print('-',end=\"|\")\n",
    "        print()\n",
    "        print(\"----------------\")\n"
   ]
  },
  {
   "cell_type": "code",
   "execution_count": 37,
   "metadata": {
    "colab": {},
    "colab_type": "code",
    "id": "UxkDfoxbVOUb"
   },
   "outputs": [],
   "source": [
    "toolbox.register(\"population\", tools.initRepeat, list, toolbox.individual)"
   ]
  },
  {
   "cell_type": "code",
   "execution_count": 38,
   "metadata": {
    "colab": {},
    "colab_type": "code",
    "id": "lcY06x24VOUe"
   },
   "outputs": [
    {
     "name": "stdout",
     "output_type": "stream",
     "text": [
      "[5, 6, 1, 0, 6, 6, 6, 0]\n"
     ]
    }
   ],
   "source": [
    "pop = toolbox.population(n=5)\n",
    "\n",
    "print(pop[0])"
   ]
  },
  {
   "cell_type": "code",
   "execution_count": 39,
   "metadata": {
    "colab": {},
    "colab_type": "code",
    "id": "KYoqKKm8VOUg"
   },
   "outputs": [
    {
     "name": "stdout",
     "output_type": "stream",
     "text": [
      "-|-|-|-|-|X|-|-|\n",
      "----------------\n",
      "-|-|-|-|-|-|X|-|\n",
      "----------------\n",
      "-|X|-|-|-|-|-|-|\n",
      "----------------\n",
      "X|-|-|-|-|-|-|-|\n",
      "----------------\n",
      "-|-|-|-|-|-|X|-|\n",
      "----------------\n",
      "-|-|-|-|-|-|X|-|\n",
      "----------------\n",
      "-|-|-|-|-|-|X|-|\n",
      "----------------\n",
      "X|-|-|-|-|-|-|-|\n",
      "----------------\n"
     ]
    }
   ],
   "source": [
    "show_grid(pop[0])"
   ]
  },
  {
   "cell_type": "markdown",
   "metadata": {
    "colab_type": "text",
    "id": "6_wZvS3mVOUh"
   },
   "source": [
    "### 10 pts:  Write your code in the cell below to define the \"evaFitness\" function, which return the fitness of any given board\n",
    "\n",
    "- evaFitness() returns the total number of distinct pairs of queens that attack each other.  \n",
    "\n",
    "- The following are some test cases you may use to verify the correctness of the evaFitness() function:\n",
    "\n",
    " * evaFitness([0, 2, 6, 7, 7, 4, 1, 6]) should return (4,)\n",
    "\n",
    " * evaFitness([7, 5, 2, 4, 3, 1, 3, 5]) should return (6,)\n",
    "\n",
    " * evaFitness([3, 1, 6, 0, 5, 7, 2, 1]) should return (5,)\n",
    "\n",
    " * evaFitness([7, 3, 1, 4, 5, 1, 3, 5]) should return (6,)\n",
    "\n"
   ]
  },
  {
   "cell_type": "code",
   "execution_count": 40,
   "metadata": {
    "colab": {},
    "colab_type": "code",
    "id": "bk1Rn57oVOUi"
   },
   "outputs": [],
   "source": [
    "#fitness function\n",
    "def evaFitness(individual):\n",
    "    \n",
    "    conflict = 0\n",
    "    \n",
    "    for i in range(8):\n",
    "        for n in range(i, 8):\n",
    "            \n",
    "            #skip if identical\n",
    "            if i == n:\n",
    "                continue\n",
    "            \n",
    "            #Check column\n",
    "            if individual[i] == individual[n]:\n",
    "                conflict += 1\n",
    "                \n",
    "            #Check diagonal 1\n",
    "            if individual[i] == (individual[n]-(n-i)):\n",
    "                conflict += 1\n",
    "                \n",
    "            #Check diagonal 2\n",
    "            if individual[i] == (individual[n]+(n-i)):\n",
    "                conflict += 1\n",
    "            \n",
    "    \n",
    "    return (conflict,)\n",
    "\n",
    "\n",
    "\n",
    "    \n",
    " \n",
    "    "
   ]
  },
  {
   "cell_type": "markdown",
   "metadata": {
    "colab_type": "text",
    "id": "MLkixA1YVOUj"
   },
   "source": [
    "### 5 pts:  Writer your code in the cell below to register \"evaluate\" function to toolbox"
   ]
  },
  {
   "cell_type": "code",
   "execution_count": 41,
   "metadata": {},
   "outputs": [
    {
     "data": {
      "text/plain": [
       "(4,)"
      ]
     },
     "execution_count": 41,
     "metadata": {},
     "output_type": "execute_result"
    }
   ],
   "source": [
    "evaFitness([0, 2, 6, 7, 7, 4, 1, 6])"
   ]
  },
  {
   "cell_type": "code",
   "execution_count": 42,
   "metadata": {},
   "outputs": [
    {
     "data": {
      "text/plain": [
       "(6,)"
      ]
     },
     "execution_count": 42,
     "metadata": {},
     "output_type": "execute_result"
    }
   ],
   "source": [
    "evaFitness([7, 5, 2, 4, 3, 1, 3, 5])"
   ]
  },
  {
   "cell_type": "code",
   "execution_count": 43,
   "metadata": {},
   "outputs": [
    {
     "data": {
      "text/plain": [
       "(5,)"
      ]
     },
     "execution_count": 43,
     "metadata": {},
     "output_type": "execute_result"
    }
   ],
   "source": [
    "evaFitness([3, 1, 6, 0, 5, 7, 2, 1])"
   ]
  },
  {
   "cell_type": "code",
   "execution_count": 44,
   "metadata": {},
   "outputs": [
    {
     "data": {
      "text/plain": [
       "(6,)"
      ]
     },
     "execution_count": 44,
     "metadata": {},
     "output_type": "execute_result"
    }
   ],
   "source": [
    "evaFitness([7, 3, 1, 4, 5, 1, 3, 5])"
   ]
  },
  {
   "cell_type": "code",
   "execution_count": 45,
   "metadata": {
    "colab": {},
    "colab_type": "code",
    "id": "TMwldAeuVOUk"
   },
   "outputs": [],
   "source": [
    "\n",
    "toolbox.register(\"evaluate\", evaFitness)\n",
    "\n"
   ]
  },
  {
   "cell_type": "code",
   "execution_count": 46,
   "metadata": {
    "colab": {},
    "colab_type": "code",
    "id": "O-xOKMI4VOUl"
   },
   "outputs": [],
   "source": [
    "\n",
    "toolbox.register(\"mate\", tools.cxTwoPoint)\n",
    "\n",
    "toolbox.register(\"mutate\", tools.mutUniformInt, low = 0, up = 7, indpb=0.1)\n",
    "\n",
    "toolbox.register(\"select\", tools.selTournament, tournsize=3)\n",
    "\n"
   ]
  },
  {
   "cell_type": "code",
   "execution_count": 47,
   "metadata": {
    "colab": {},
    "colab_type": "code",
    "id": "R1jlpMTNVOUn"
   },
   "outputs": [],
   "source": [
    "stats = tools.Statistics(key=lambda ind: ind.fitness.values)\n",
    "\n",
    "\n",
    "stats.register(\"avg\", np.mean)\n",
    "stats.register(\"min\", np.min)\n",
    "\n"
   ]
  },
  {
   "cell_type": "markdown",
   "metadata": {
    "colab_type": "text",
    "id": "pyRth-sHVOUq"
   },
   "source": [
    "### 10 pts:  Writer your code in the cell below to create the first generation, the hall of fame, and launch the genetic algorithm: eaSimple().   How many individuals you want to have for each generation and how many generations you want GA to go thourgh for each run?     Vary those two parameters to see the change. "
   ]
  },
  {
   "cell_type": "code",
   "execution_count": 48,
   "metadata": {
    "colab": {},
    "colab_type": "code",
    "id": "3aJJcDUVVOUq"
   },
   "outputs": [
    {
     "name": "stdout",
     "output_type": "stream",
     "text": [
      "gen\tnevals\tavg   \tmin\n",
      "0  \t10000 \t7.9068\t1  \n",
      "1  \t6027  \t6.3808\t1  \n",
      "2  \t6142  \t5.5891\t1  \n",
      "3  \t5988  \t5.0404\t0  \n",
      "4  \t5963  \t4.6767\t0  \n",
      "5  \t5893  \t4.3726\t0  \n",
      "6  \t5973  \t4.1424\t0  \n",
      "7  \t6089  \t3.9831\t0  \n",
      "8  \t5946  \t3.8036\t0  \n",
      "9  \t5837  \t3.5934\t0  \n",
      "10 \t6028  \t3.473 \t0  \n",
      "11 \t6100  \t3.393 \t0  \n",
      "12 \t6095  \t3.2924\t0  \n",
      "13 \t5975  \t3.1566\t0  \n",
      "14 \t6045  \t3.0854\t0  \n",
      "15 \t5945  \t2.9286\t0  \n",
      "16 \t6057  \t2.7982\t0  \n",
      "17 \t5926  \t2.7161\t0  \n",
      "18 \t5980  \t2.6158\t0  \n",
      "19 \t6013  \t2.5369\t0  \n",
      "20 \t6006  \t2.4392\t0  \n",
      "21 \t5999  \t2.302 \t0  \n",
      "22 \t6130  \t2.1836\t0  \n",
      "23 \t5968  \t2.0042\t0  \n",
      "24 \t6060  \t1.8728\t0  \n",
      "25 \t6102  \t1.7791\t0  \n",
      "26 \t5998  \t1.5665\t0  \n",
      "27 \t6079  \t1.3751\t0  \n",
      "28 \t5887  \t1.119 \t0  \n",
      "29 \t5814  \t0.8467\t0  \n",
      "30 \t5972  \t0.6336\t0  \n",
      "31 \t5940  \t0.4989\t0  \n",
      "32 \t5965  \t0.4023\t0  \n",
      "33 \t6073  \t0.3719\t0  \n",
      "34 \t5945  \t0.3283\t0  \n",
      "35 \t5981  \t0.3203\t0  \n",
      "36 \t6046  \t0.3176\t0  \n",
      "37 \t5937  \t0.2892\t0  \n",
      "38 \t6020  \t0.2969\t0  \n",
      "39 \t5983  \t0.2925\t0  \n",
      "40 \t5910  \t0.2731\t0  \n",
      "41 \t5904  \t0.2901\t0  \n",
      "42 \t6100  \t0.2882\t0  \n",
      "43 \t5959  \t0.2845\t0  \n",
      "44 \t6023  \t0.2911\t0  \n",
      "45 \t6134  \t0.3048\t0  \n",
      "46 \t6049  \t0.3032\t0  \n",
      "47 \t5922  \t0.2975\t0  \n",
      "48 \t5869  \t0.2883\t0  \n",
      "49 \t6017  \t0.2967\t0  \n",
      "50 \t5974  \t0.3085\t0  \n",
      "51 \t6002  \t0.283 \t0  \n",
      "52 \t6020  \t0.2869\t0  \n",
      "53 \t5977  \t0.2908\t0  \n",
      "54 \t6052  \t0.2996\t0  \n",
      "55 \t6031  \t0.3005\t0  \n",
      "56 \t6005  \t0.2995\t0  \n",
      "57 \t5905  \t0.2955\t0  \n",
      "58 \t6076  \t0.314 \t0  \n",
      "59 \t6016  \t0.2903\t0  \n",
      "60 \t6110  \t0.2885\t0  \n",
      "61 \t6085  \t0.293 \t0  \n",
      "62 \t5981  \t0.3067\t0  \n",
      "63 \t5930  \t0.3036\t0  \n",
      "64 \t6054  \t0.2926\t0  \n",
      "65 \t5926  \t0.2983\t0  \n",
      "66 \t5943  \t0.2859\t0  \n",
      "67 \t6103  \t0.3027\t0  \n",
      "68 \t6019  \t0.2996\t0  \n",
      "69 \t6126  \t0.3054\t0  \n",
      "70 \t5968  \t0.2959\t0  \n",
      "71 \t6034  \t0.296 \t0  \n",
      "72 \t5953  \t0.2907\t0  \n",
      "73 \t5953  \t0.2913\t0  \n",
      "74 \t6019  \t0.3145\t0  \n",
      "75 \t5978  \t0.3047\t0  \n",
      "76 \t6078  \t0.3089\t0  \n",
      "77 \t5874  \t0.2791\t0  \n",
      "78 \t5992  \t0.2992\t0  \n",
      "79 \t6143  \t0.2945\t0  \n",
      "80 \t6025  \t0.2841\t0  \n",
      "81 \t5965  \t0.2936\t0  \n",
      "82 \t5965  \t0.3012\t0  \n",
      "83 \t6027  \t0.314 \t0  \n",
      "84 \t6056  \t0.2936\t0  \n",
      "85 \t5996  \t0.2937\t0  \n",
      "86 \t6132  \t0.3124\t0  \n",
      "87 \t6034  \t0.304 \t0  \n",
      "88 \t6018  \t0.297 \t0  \n",
      "89 \t5953  \t0.2993\t0  \n",
      "90 \t5954  \t0.2934\t0  \n",
      "91 \t6024  \t0.2878\t0  \n",
      "92 \t6079  \t0.3107\t0  \n",
      "93 \t6037  \t0.2967\t0  \n",
      "94 \t6003  \t0.2973\t0  \n",
      "95 \t5982  \t0.3026\t0  \n",
      "96 \t6029  \t0.301 \t0  \n",
      "97 \t5995  \t0.3118\t0  \n",
      "98 \t6025  \t0.2915\t0  \n",
      "99 \t5922  \t0.2845\t0  \n",
      "100\t6090  \t0.2985\t0  \n"
     ]
    }
   ],
   "source": [
    "\n",
    "pop = toolbox.population(n=10000)\n",
    "\n",
    "hof = tools.HallOfFame(maxsize=1)\n",
    "\n",
    "pop, log= algorithms.eaSimple(pop, toolbox, cxpb=0.5, mutpb=0.2, ngen=100, stats=stats, halloffame=hof, verbose=True)\n",
    "\n"
   ]
  },
  {
   "cell_type": "markdown",
   "metadata": {
    "colab_type": "text",
    "id": "xrJfr0ePVOUs"
   },
   "source": [
    "### 5 pts:  Plot the \"avg\" and \"min\" for each generation"
   ]
  },
  {
   "cell_type": "code",
   "execution_count": 49,
   "metadata": {
    "colab": {},
    "colab_type": "code",
    "id": "LJyAUq4WVOUs"
   },
   "outputs": [
    {
     "data": {
      "image/png": "[encoded data removed]",
      "text/plain": [
       "<Figure size 432x288 with 1 Axes>"
      ]
     },
     "metadata": {
      "needs_background": "light"
     },
     "output_type": "display_data"
    }
   ],
   "source": [
    "# Plot the \"avg\" and \"min\" for each generation\n",
    "\n",
    "import matplotlib.pyplot as plt\n",
    "%matplotlib inline  \n",
    "\n",
    "gen, avg, min_ = log.select(\"gen\", \"avg\", \"min\")\n",
    "\n",
    "plt.plot(gen, avg, label=\"average\")\n",
    "plt.plot(gen, min_, label=\"minimum\")\n",
    "plt.xlabel(\"Generation\")\n",
    "plt.ylabel(\"Fitness\")\n",
    "plt.legend(loc=\"lower right\")\n",
    "plt.show()\n",
    "\n",
    "\n"
   ]
  },
  {
   "cell_type": "markdown",
   "metadata": {
    "colab_type": "text",
    "id": "ry6HXqIMVOUv"
   },
   "source": [
    "### 5 pts:  Print out the best individual found and its fitness value.  Show the best individual as chessboard"
   ]
  },
  {
   "cell_type": "code",
   "execution_count": 50,
   "metadata": {
    "colab": {},
    "colab_type": "code",
    "id": "PkC9uOqCVOUv"
   },
   "outputs": [
    {
     "name": "stdout",
     "output_type": "stream",
     "text": [
      "Best individual is:  [3, 1, 7, 5, 0, 2, 4, 6]\n",
      "\n",
      "with fitness:  (0.0,)\n",
      "-|-|-|X|-|-|-|-|\n",
      "----------------\n",
      "-|X|-|-|-|-|-|-|\n",
      "----------------\n",
      "-|-|-|-|-|-|-|X|\n",
      "----------------\n",
      "-|-|-|-|-|X|-|-|\n",
      "----------------\n",
      "X|-|-|-|-|-|-|-|\n",
      "----------------\n",
      "-|-|X|-|-|-|-|-|\n",
      "----------------\n",
      "-|-|-|-|X|-|-|-|\n",
      "----------------\n",
      "-|-|-|-|-|-|X|-|\n",
      "----------------\n"
     ]
    }
   ],
   "source": [
    "\n",
    "print(\"Best individual is: \", hof[0])\n",
    "\n",
    "print(\"\\nwith fitness: \", hof[0].fitness)\n",
    "\n",
    "show_grid(hof[0])\n",
    "\n",
    "\n",
    "\n",
    "\n"
   ]
  },
  {
   "cell_type": "markdown",
   "metadata": {
    "colab_type": "text",
    "id": "qhba2jQ1VOUw"
   },
   "source": [
    "### Reflection:  Which board representaion is better in terms of ease of coding and final solution quality?   Try different parameter values for mutation and crossover and vary the number of generations and the population size.  Write your findings in the report.        "
   ]
  }
 ],
 "metadata": {
  "colab": {
   "collapsed_sections": [],
   "name": "DEAP n queens_on-canvas.ipynb",
   "provenance": [],
   "toc_visible": true,
   "version": "0.3.2"
  },
  "kernelspec": {
   "display_name": "Python 3",
   "language": "python",
   "name": "python3"
  },
  "language_info": {
   "codemirror_mode": {
    "name": "ipython",
    "version": 3
   },
   "file_extension": ".py",
   "mimetype": "text/x-python",
   "name": "python",
   "nbconvert_exporter": "python",
   "pygments_lexer": "ipython3",
   "version": "3.8.8"
  }
 },
 "nbformat": 4,
 "nbformat_minor": 2
}
